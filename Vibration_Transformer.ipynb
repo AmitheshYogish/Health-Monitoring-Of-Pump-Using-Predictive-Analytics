{
  "nbformat": 4,
  "nbformat_minor": 0,
  "metadata": {
    "colab": {
      "provenance": []
    },
    "kernelspec": {
      "name": "python3",
      "display_name": "Python 3"
    },
    "language_info": {
      "name": "python"
    }
  },
  "cells": [
    {
      "cell_type": "code",
      "source": [
        "# Function to create sequences\n",
        "def create_sequences(data, labels, sequence_length=100):\n",
        "    sequence_data = []\n",
        "    sequence_labels = []\n",
        "    for i in range(len(data) - sequence_length):\n",
        "        sequence_data.append(data[i:i+sequence_length])\n",
        "        sequence_labels.append(labels[i+sequence_length-1])\n",
        "    return np.array(sequence_data), np.array(sequence_labels)"
      ],
      "metadata": {
        "id": "_rlTZ0M6gjYK"
      },
      "execution_count": null,
      "outputs": []
    },
    {
      "cell_type": "code",
      "execution_count": null,
      "metadata": {
        "colab": {
          "base_uri": "https://localhost:8080/"
        },
        "id": "VyUhPHfjbTzb",
        "outputId": "ff783aff-aed0-41d4-e24c-694f391084bf"
      },
      "outputs": [
        {
          "output_type": "stream",
          "name": "stdout",
          "text": [
            "<class 'pandas.core.frame.DataFrame'>\n",
            "RangeIndex: 205812 entries, 0 to 205811\n",
            "Data columns (total 2 columns):\n",
            " #   Column     Non-Null Count   Dtype  \n",
            "---  ------     --------------   -----  \n",
            " 0   Label      205812 non-null  int64  \n",
            " 1   Vibration  205812 non-null  float64\n",
            "dtypes: float64(1), int64(1)\n",
            "memory usage: 3.1 MB\n",
            "Shapes of train and test data:\n",
            "(164569, 100, 1) (41143, 100, 1) (164569,) (41143,)\n"
          ]
        }
      ],
      "source": [
        "import pandas as pd\n",
        "import numpy as np\n",
        "from sklearn.preprocessing import MinMaxScaler, LabelEncoder\n",
        "from sklearn.model_selection import train_test_split\n",
        "\n",
        "# Load the data\n",
        "data = pd.read_csv('/content/drive/MyDrive/7th sem Project/Final Real time Vibration.csv')\n",
        "\n",
        "# Keeping only the columns related to Pump1 and Pump4\n",
        "data = data[['Pump1 Vibration', 'Pump4 Vibration']]\n",
        "\n",
        "# Melting the DataFrame and labeling the data\n",
        "melted_data = data.melt(var_name='Label', value_name='Vibration')\n",
        "melted_data['Label'] = melted_data['Label'].apply(lambda x: 'Healthy' if x == 'Pump1 Vibration' else 'Faulty')\n",
        "\n",
        "# Normalizing and encoding labels\n",
        "scaler = MinMaxScaler(feature_range=(0,1))\n",
        "melted_data['Vibration'] = scaler.fit_transform(melted_data[['Vibration']])\n",
        "label_encoder = LabelEncoder()\n",
        "melted_data['Label'] = label_encoder.fit_transform(melted_data['Label'])\n",
        "# Displaying basic information and the first few rows of the DataFrame\n",
        "melted_data.info()\n",
        "melted_data.head()\n",
        "# Creating sequences and splitting data\n",
        "seq_length = 100  # Using a smaller sequence length for faster training\n",
        "X, y = create_sequences(melted_data['Vibration'],melted_data['Label'], seq_length)  # You need to define the create_sequences function\n",
        "X_train, X_test, y_train, y_test = train_test_split(X, y, test_size=0.2, random_state=42)\n",
        "X_train = X_train.reshape((X_train.shape[0], X_train.shape[1], 1))\n",
        "X_test = X_test.reshape((X_test.shape[0], X_test.shape[1], 1))\n",
        "\n",
        "print(\"Shapes of train and test data:\")\n",
        "print(X_train.shape, X_test.shape, y_train.shape, y_test.shape)\n",
        "import tensorflow as tf\n",
        "from tensorflow.keras.models import Sequential\n",
        "from tensorflow.keras.layers import LSTM, Dense, Dropout"
      ]
    },
    {
      "cell_type": "code",
      "source": [
        "def build_transformer_model(\n",
        "    input_shape,\n",
        "    head_size,\n",
        "    num_heads,\n",
        "    ff_dim,\n",
        "    num_transformer_blocks,\n",
        "    mlp_units,\n",
        "    dropout=0,\n",
        "    mlp_dropout=0,\n",
        "):\n",
        "    inputs = tf.keras.Input(shape=input_shape)\n",
        "    x = inputs\n",
        "    for _ in range(num_transformer_blocks):\n",
        "        x = transformer_encoder(x, head_size, num_heads, ff_dim, dropout)\n",
        "\n",
        "    x = layers.GlobalAveragePooling1D(data_format=\"channels_first\")(x)\n",
        "    for dim in mlp_units:\n",
        "        x = layers.Dense(dim, activation=\"relu\")(x)\n",
        "        x = layers.Dropout(mlp_dropout)(x)\n",
        "    outputs = layers.Dense(1, activation=\"sigmoid\")(x)\n",
        "\n",
        "    return tf.keras.Model(inputs=inputs, outputs=outputs)\n"
      ],
      "metadata": {
        "id": "DlX4DTwqgG2p"
      },
      "execution_count": null,
      "outputs": []
    },
    {
      "cell_type": "code",
      "source": [
        "import tensorflow as tf\n",
        "input_shape = (100, 1)  # Adjusted for reduced sequence length\n",
        "head_size = 128  # Reduced head size\n",
        "num_heads = 2   # Reduced number of heads\n",
        "ff_dim = 2      # Reduced feed-forward dimensions\n",
        "num_transformer_blocks = 2  # Reduced transformer blocks for simplification\n",
        "mlp_units = [64]  # Reduced MLP units for simplification\n",
        "dropout = 0.1\n",
        "mlp_dropout = 0.1\n",
        "\n",
        "# Build the model\n",
        "model = build_transformer_model(input_shape, head_size, num_heads, ff_dim, num_transformer_blocks, mlp_units, dropout, mlp_dropout)\n",
        "# Increase batch size\n",
        "batch_size = 256\n",
        "\n",
        "# Use learning rate scheduling\n",
        "lr_schedule = tf.keras.optimizers.schedules.ExponentialDecay(\n",
        "    initial_learning_rate=1e-3,\n",
        "    decay_steps=1000,\n",
        "    decay_rate=0.9)\n",
        "\n",
        "optimizer = tf.keras.optimizers.Adam(learning_rate=lr_schedule, clipnorm=1.0)  # Added gradient clipping\n",
        "model.compile(loss=\"binary_crossentropy\", optimizer=optimizer, metrics=[\"accuracy\"])\n",
        "\n",
        "# Train the model with increased batch size"
      ],
      "metadata": {
        "id": "4hR2KflmbVQh"
      },
      "execution_count": null,
      "outputs": []
    },
    {
      "cell_type": "code",
      "source": [
        "from tensorflow.keras import layers\n",
        "# Simplified Transformer block\n",
        "def transformer_encoder(inputs, head_size, num_heads, ff_dim, dropout=0):\n",
        "    x = layers.LayerNormalization(epsilon=1e-6)(inputs)\n",
        "    x = layers.MultiHeadAttention(key_dim=head_size, num_heads=num_heads, dropout=dropout)(x, x)\n",
        "    x = layers.Dropout(dropout)(x)\n",
        "    res = x + inputs\n",
        "\n",
        "    x = layers.LayerNormalization(epsilon=1e-6)(res)\n",
        "    x = layers.Conv1D(filters=ff_dim, kernel_size=1, activation=\"relu\")(x)\n",
        "    x = layers.Dropout(dropout)(x)\n",
        "    x = layers.Conv1D(filters=inputs.shape[-1], kernel_size=1)(x)\n",
        "    return x + res"
      ],
      "metadata": {
        "id": "eCzWj8Z6g9Pm"
      },
      "execution_count": null,
      "outputs": []
    },
    {
      "cell_type": "code",
      "source": [
        "history = model.fit(X_train, y_train, epochs=5, batch_size=batch_size, validation_split=0.2, shuffle=False)"
      ],
      "metadata": {
        "colab": {
          "base_uri": "https://localhost:8080/"
        },
        "id": "yp6axDWQhMSr",
        "outputId": "04f097f8-ee7f-4c45-fbcf-aa1d989a0e7c"
      },
      "execution_count": null,
      "outputs": [
        {
          "output_type": "stream",
          "name": "stdout",
          "text": [
            "Epoch 1/5\n",
            "515/515 [==============================] - 757s 1s/step - loss: 0.5245 - accuracy: 0.8763 - val_loss: 0.2426 - val_accuracy: 0.9743\n",
            "Epoch 2/5\n",
            "515/515 [==============================] - 736s 1s/step - loss: 0.1291 - accuracy: 0.9818 - val_loss: 0.0599 - val_accuracy: 0.9939\n",
            "Epoch 3/5\n",
            "515/515 [==============================] - 735s 1s/step - loss: 0.0442 - accuracy: 0.9945 - val_loss: 0.0255 - val_accuracy: 0.9985\n",
            "Epoch 4/5\n",
            "515/515 [==============================] - 724s 1s/step - loss: 0.0238 - accuracy: 0.9970 - val_loss: 0.0161 - val_accuracy: 0.9986\n",
            "Epoch 5/5\n",
            "515/515 [==============================] - 710s 1s/step - loss: 0.0148 - accuracy: 0.9983 - val_loss: 0.0101 - val_accuracy: 0.9990\n"
          ]
        }
      ]
    },
    {
      "cell_type": "code",
      "source": [
        "from sklearn.metrics import accuracy_score, precision_score, recall_score, f1_score\n",
        "# Predict on the test data\n",
        "y_pred = model.predict(X_test)\n",
        "y_pred_binary = (y_pred > 0.5).astype(int).flatten()\n",
        "\n",
        "# Calculate metrics\n",
        "accuracy = accuracy_score(y_test, y_pred_binary)\n",
        "precision = precision_score(y_test, y_pred_binary)\n",
        "recall = recall_score(y_test, y_pred_binary)\n",
        "f1 = f1_score(y_test, y_pred_binary)\n",
        "\n",
        "print(f\"Accuracy: {accuracy:.4f}\")\n",
        "print(f\"Precision: {precision:.4f}\")\n",
        "print(f\"Recall: {recall:.4f}\")\n",
        "print(f\"F1 Score: {f1:.4f}\")\n",
        "import matplotlib.pyplot as plt\n",
        "import seaborn as sns\n",
        "from sklearn.metrics import classification_report, confusion_matrix, roc_curve, auc\n",
        "# Printing classification report for precision, recall, f1-score metrics\n",
        "print(classification_report(y_test, y_pred_binary, target_names=['Healthy', 'Faulty']))\n",
        "\n",
        "# Visualization - Plotting loss and accuracy\n",
        "plt.figure(figsize=(12, 5))\n",
        "\n",
        "plt.subplot(1, 2, 2)\n",
        "plt.plot(history.history['accuracy'], label='Train Accuracy')\n",
        "plt.plot(history.history['val_accuracy'], label='Validation Accuracy')\n",
        "plt.legend()\n",
        "plt.title('Accuracy')\n"
      ],
      "metadata": {
        "colab": {
          "base_uri": "https://localhost:8080/",
          "height": 728
        },
        "id": "kkKv6BEbm_1S",
        "outputId": "73a24840-c1fe-443a-c97d-65549e763efd"
      },
      "execution_count": null,
      "outputs": [
        {
          "output_type": "stream",
          "name": "stdout",
          "text": [
            "1286/1286 [==============================] - 79s 61ms/step\n",
            "Accuracy: 0.9991\n",
            "Precision: 0.9982\n",
            "Recall: 1.0000\n",
            "F1 Score: 0.9991\n",
            "              precision    recall  f1-score   support\n",
            "\n",
            "     Healthy       1.00      1.00      1.00     20631\n",
            "      Faulty       1.00      1.00      1.00     20512\n",
            "\n",
            "    accuracy                           1.00     41143\n",
            "   macro avg       1.00      1.00      1.00     41143\n",
            "weighted avg       1.00      1.00      1.00     41143\n",
            "\n"
          ]
        },
        {
          "output_type": "execute_result",
          "data": {
            "text/plain": [
              "Text(0.5, 1.0, 'Accuracy')"
            ]
          },
          "metadata": {},
          "execution_count": 8
        },
        {
          "output_type": "display_data",
          "data": {
            "text/plain": [
              "<Figure size 1200x500 with 1 Axes>"
            ],
            "image/png": "[encoded data removed]"
          },
          "metadata": {}
        }
      ]
    },
    {
      "cell_type": "code",
      "source": [
        "cm = confusion_matrix(y_test,y_pred_binary)\n",
        "sns.heatmap(cm, annot=True, fmt='d',cmap='Blues', xticklabels=['Healthy', 'Faulty'], yticklabels=['Healthy', 'Faulty'])\n",
        "plt.xlabel('Predicted')\n",
        "plt.ylabel('True')\n",
        "plt.title('Confusion Matrix')\n",
        "plt.show()"
      ],
      "metadata": {
        "colab": {
          "base_uri": "https://localhost:8080/",
          "height": 472
        },
        "id": "PE8RFdCYnyjQ",
        "outputId": "d43a2ac3-cd3e-44db-bae4-2de346609d79"
      },
      "execution_count": null,
      "outputs": [
        {
          "output_type": "display_data",
          "data": {
            "text/plain": [
              "<Figure size 640x480 with 2 Axes>"
            ],
            "image/png": "[encoded data removed]"
          },
          "metadata": {}
        }
      ]
    },
    {
      "cell_type": "code",
      "source": [
        "import matplotlib.pyplot as plt\n",
        "import seaborn as sns\n",
        "from sklearn.metrics import classification_report, confusion_matrix, roc_curve, auc\n",
        "# Printing classification report for precision, recall, f1-score metrics\n",
        "print(classification_report(y_test, y_pred_binary, target_names=['Healthy', 'Faulty']))\n",
        "\n",
        "# Visualization - Plotting loss and accuracy\n",
        "plt.figure(figsize=(12, 5))\n",
        "plt.subplot(1, 2, 1)\n",
        "plt.plot(history.history['loss'], label='Train Loss')\n",
        "plt.plot(history.history['val_loss'], label='Validation Loss')\n",
        "plt.legend()\n",
        "plt.title('Loss')\n",
        "\n",
        "plt.subplot(1, 2, 2)\n",
        "plt.plot(history.history['accuracy'], label='Train Accuracy')\n",
        "plt.plot(history.history['val_accuracy'], label='Validation Accuracy')\n",
        "plt.legend()\n",
        "plt.title('Accuracy')"
      ],
      "metadata": {
        "id": "32FZjz6ogQ2M"
      },
      "execution_count": null,
      "outputs": []
    },
    {
      "cell_type": "code",
      "source": [
        "cm = confusion_matrix(y_temp_test,y_pred_binary)\n",
        "sns.heatmap(cm, annot=True, fmt='d', xticklabels=['Healthy', 'Faulty'], yticklabels=['Healthy', 'Faulty'])\n",
        "plt.xlabel('Predicted')\n",
        "plt.ylabel('True')\n",
        "plt.title('Confusion Matrix')\n",
        "plt.show()"
      ],
      "metadata": {
        "id": "iKGzJeiogUeB"
      },
      "execution_count": null,
      "outputs": []
    }
  ]
}